{
 "cells": [
  {
   "cell_type": "code",
   "execution_count": 16,
   "id": "1be898c8",
   "metadata": {},
   "outputs": [
    {
     "name": "stdout",
     "output_type": "stream",
     "text": [
      "The autoreload extension is already loaded. To reload it, use:\n",
      "  %reload_ext autoreload\n"
     ]
    }
   ],
   "source": [
    "# Useful starting lines\n",
    "%matplotlib inline\n",
    "import numpy as np\n",
    "import matplotlib.pyplot as plt\n",
    "\n",
    "%load_ext autoreload\n",
    "%autoreload 2"
   ]
  },
  {
   "cell_type": "markdown",
   "id": "fe219a6c",
   "metadata": {},
   "source": [
    "## Condition number of a matrix"
   ]
  },
  {
   "cell_type": "code",
   "execution_count": 36,
   "id": "6baceb94",
   "metadata": {},
   "outputs": [
    {
     "name": "stdout",
     "output_type": "stream",
     "text": [
      "Sample #1:\n",
      "w = [199.5  99.5]\n",
      "cond = 2503.0046004809424\n",
      "Sample #2:\n",
      "w = [-79799.99999943 -39999.99999972]\n",
      "cond = 1002003.0000613326\n"
     ]
    }
   ],
   "source": [
    "for sample in [1,2]:\n",
    "    print(f'Sample #{sample}:')\n",
    "    x = np.array([[400, -201],[-800, 401]])\n",
    "    y = np.array([200, -200])\n",
    "\n",
    "    if sample == 2:\n",
    "        x[0,0] = 401\n",
    "        \n",
    "    w = np.linalg.solve(x.T,y)\n",
    "    print(f'w = {w}')\n",
    "    cond = np.linalg.cond(x)\n",
    "    print(f'cond = {cond}')"
   ]
  },
  {
   "cell_type": "markdown",
   "id": "dc84bc59",
   "metadata": {},
   "source": [
    "## New cost function\n",
    "\n",
    "Let's use a cost function which penalizes depending on the relative error"
   ]
  },
  {
   "cell_type": "code",
   "execution_count": null,
   "id": "f52a70d7",
   "metadata": {},
   "outputs": [],
   "source": [
    "def cost_function(y, x, w):\n",
    "    eps = np.finfo(float).eps\n",
    "    \n",
    "    e = \n",
    "    "
   ]
  }
 ],
 "metadata": {
  "kernelspec": {
   "display_name": "Python 3 (ipykernel)",
   "language": "python",
   "name": "python3"
  },
  "language_info": {
   "codemirror_mode": {
    "name": "ipython",
    "version": 3
   },
   "file_extension": ".py",
   "mimetype": "text/x-python",
   "name": "python",
   "nbconvert_exporter": "python",
   "pygments_lexer": "ipython3",
   "version": "3.9.12"
  }
 },
 "nbformat": 4,
 "nbformat_minor": 5
}
